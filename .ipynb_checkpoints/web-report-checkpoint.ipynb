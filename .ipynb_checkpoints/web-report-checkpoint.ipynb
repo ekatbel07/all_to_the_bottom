{
 "cells": [
  {
   "cell_type": "code",
   "execution_count": 86,
   "metadata": {},
   "outputs": [],
   "source": [
    "import sqlite3\n",
    "from itertools import islice\n",
    "from math import pi\n",
    "import pandas as pd\n",
    "from bokeh.io import output_file, show\n",
    "from bokeh.palettes import Category20c\n",
    "from bokeh.transform import cumsum\n",
    "from bokeh.models import ColumnDataSource\n",
    "from bokeh.palettes import Spectral6\n",
    "from bokeh.plotting import figure\n",
    "from bokeh.transform import factor_cmap\n"
   ]
  },
  {
   "cell_type": "code",
   "execution_count": 44,
   "metadata": {},
   "outputs": [],
   "source": [
    "conn = sqlite3.connect(\"logs.db\")\n",
    "cursor = conn.cursor()\n"
   ]
  },
  {
   "cell_type": "code",
   "execution_count": 53,
   "metadata": {},
   "outputs": [],
   "source": [
    "output_file(\"pie.html\")\n",
    "\n",
    "x = Report1()\n",
    "\n",
    "data = pd.Series(x).reset_index(name='value').rename(columns={'index':'country'})\n",
    "data['angle'] = data['value']/data['value'].sum() * 2*pi\n",
    "data['color'] = Category20c[len(x)]\n",
    "\n",
    "p = figure(plot_height=350, title=\"Посетители из какой страны совершают больше всего действий на сайте\", toolbar_location=None,\n",
    "           tools=\"hover\", tooltips=\"@country: @value\", x_range=(-0.5, 1.0))\n",
    "\n",
    "p.wedge(x=0, y=1, radius=0.4,\n",
    "        start_angle=cumsum('angle', include_zero=True), end_angle=cumsum('angle'),\n",
    "        line_color=\"white\", fill_color='color', legend='country', source=data)\n",
    "\n",
    "p.axis.axis_label=None\n",
    "p.axis.visible=False\n",
    "p.grid.grid_line_color = None\n",
    "\n",
    "show(p)"
   ]
  },
  {
   "cell_type": "code",
   "execution_count": null,
   "metadata": {},
   "outputs": [
    {
     "name": "stderr",
     "output_type": "stream",
     "text": [
      "Bottle v0.12.13 server starting up (using WSGIRefServer())...\n",
      "Listening on http://localhost:8080/\n",
      "Hit Ctrl-C to quit.\n",
      "\n",
      "127.0.0.1 - - [13/Jan/2019 15:28:05] \"GET /hello/world HTTP/1.1\" 200 19\n"
     ]
    }
   ],
   "source": [
    "from bottle import route, run, template\n",
    "\n",
    "@route('/hello/:name')\n",
    "def index(name='World'):\n",
    "    return template('<b>Hello {{name}}</b>!', name=name)\n",
    "\n",
    "run(host='localhost', port=8080)"
   ]
  },
  {
   "cell_type": "code",
   "execution_count": 20,
   "metadata": {},
   "outputs": [
    {
     "ename": "SyntaxError",
     "evalue": "invalid syntax (<ipython-input-20-57ea45a0e479>, line 1)",
     "output_type": "error",
     "traceback": [
      "\u001b[1;36m  File \u001b[1;32m\"<ipython-input-20-57ea45a0e479>\"\u001b[1;36m, line \u001b[1;32m1\u001b[0m\n\u001b[1;33m    Посетители из какой страны совершают больше всего действий на сайте?\u001b[0m\n\u001b[1;37m                ^\u001b[0m\n\u001b[1;31mSyntaxError\u001b[0m\u001b[1;31m:\u001b[0m invalid syntax\n"
     ]
    }
   ],
   "source": [
    "Посетители из какой страны совершают больше всего действий на сайте?\n",
    "Посетители из какой страны чаще всего интересуются товарами из определенных категорий?\n",
    "В какое время суток чаще всего просматривают определенную категорию товаров?\n",
    "Какая нагрузка (число запросов) на сайт за астрономический час?\n",
    "Товары из какой категории чаще всего покупают совместно с товаром из заданной категории?\n",
    "Сколько брошенных (не оплаченных) корзин имеется за определенный период?\n",
    "Какое количество пользователей совершали повторные покупки за определенный период?\n"
   ]
  },
  {
   "cell_type": "code",
   "execution_count": 90,
   "metadata": {},
   "outputs": [],
   "source": [
    "# Посетители из какой страны совершают больше всего действий на сайте?\n",
    "def Report1():\n",
    "    cursor.execute(\"\"\"select u.country, count(*) from users u, visits v where u.id = v.user_id group by country order by 2 desc\"\"\")\n",
    "    result = {}\n",
    "    for i in cursor.fetchall():\n",
    "        result[i[0]] = i[1]\n",
    "    cursor.execute(\"\"\"select u.country, count(*) from users u, cart_history c where u.id = c.user_id group by u.country order by 2 desc\"\"\")\n",
    "    for i in cursor.fetchall():\n",
    "        result[i[0]] += i[1]\n",
    "    cursor.execute(\"\"\"select u.country, count(*) from users u, cart_history c, purchases p where u.id = c.user_id and p.cart_id = c.id group by u.country order by 2 desc\"\"\")\n",
    "    for i in cursor.fetchall():\n",
    "        result[i[0]] += i[1]\n",
    "    cursor.execute(\"\"\"select country, count(*) from users group by country order by 2 desc\"\"\")\n",
    "    for i in cursor.fetchall():\n",
    "        result[i[0]] /= i[1]\n",
    "    del result[None]\n",
    "    n_items = list(islice(result.items(), 12))\n",
    "    result = {}\n",
    "    for i in n_items:\n",
    "        result[i[0]] = i[1]\n",
    "    return result\n",
    "    "
   ]
  },
  {
   "cell_type": "code",
   "execution_count": 2,
   "metadata": {
    "collapsed": true
   },
   "outputs": [
    {
     "name": "stdout",
     "output_type": "stream",
     "text": [
      "[('canned_food', 'sprats'), ('canned_food', 'pate_of_tuna'), ('caviar', 'black_caviar'), ('frozen_fish', 'pike'), ('frozen_fish', 'shark'), ('fresh_fish', 'salmon'), ('canned_food', 'midii'), ('semi_manufactures', 'crab_meat'), ('frozen_fish', 'peljad'), ('fresh_fish', 'codfish'), ('fresh_fish', 'crucian'), ('semi_manufactures', 'stuffing_eel'), ('semi_manufactures', 'soup_set'), ('fresh_fish', 'tuna'), ('fresh_fish', 'marlene'), ('fresh_fish', 'herring'), ('semi_manufactures', 'squid_rings'), ('caviar', 'squash_caviar'), ('frozen_fish', 'salmon'), ('caviar', 'red_caviar'), ('fresh_fish', 'smelt'), ('semi_manufactures', 'salmon_cutlet'), ('frozen_fish', 'eel'), ('frozen_fish', 'carp')]\n"
     ]
    }
   ],
   "source": [
    "cursor.execute(\"\"\"select c.name, g.name from goods g,category_goods c where  c.id = g.category_id \"\"\")\n",
    "print(cursor.fetchall())"
   ]
  },
  {
   "cell_type": "code",
   "execution_count": 51,
   "metadata": {
    "collapsed": true
   },
   "outputs": [
    {
     "name": "stdout",
     "output_type": "stream",
     "text": [
      "[('United States', 371), (None, 138), ('China', 91), ('Japan', 33), ('Germany', 31), ('United Kingdom', 30), ('France', 23), ('Brazil', 18), ('South Korea', 18), ('Italy', 13), ('Russia', 13), ('Australia', 12), ('Netherlands', 11), ('Canada', 10), ('Republic of Korea', 10), ('Sweden', 9), ('Belgium', 8), ('Egypt', 8), ('South Africa', 7), ('Norway', 6), ('Saudi Arabia', 6), ('Spain', 6), ('Mauritius', 5), ('Switzerland', 5), ('Taiwan', 5), ('Argentina', 4), ('Austria', 4), ('Chile', 4), ('India', 4), ('Indonesia', 4), ('Iran', 4), ('Malaysia', 4), ('Venezuela', 4), ('Finland', 3), ('Ireland', 3), ('Mexico', 3), ('Peru', 3), ('Poland', 3), ('Romania', 3), ('Thailand', 3), ('Algeria', 2), ('Bosnia and Herzegovina', 2), ('Colombia', 2), ('Denmark', 2), ('Ecuador', 2), ('Estonia', 2), ('Greece', 2), ('Israel', 2), ('Kazakhstan', 2), ('Luxembourg', 2), ('Nigeria', 2), ('Singapore', 2), ('Tunisia', 2), ('Turkey', 2), ('United Arab Emirates', 2), ('Vietnam', 2), ('Czechia', 1), ('Dominican Republic', 1), ('Georgia', 1), ('Ghana', 1), ('Hong Kong', 1), ('Hungary', 1), ('Ivory Coast', 1), ('Latvia', 1), ('Lebanon', 1), ('Lithuania', 1), ('Malta', 1), ('Morocco', 1), ('Namibia', 1), ('Nepal', 1), ('New Zealand', 1), ('Oman', 1), ('Pakistan', 1), ('Paraguay', 1), ('Philippines', 1), ('Republic of Lithuania', 1), ('Senegal', 1), ('Slovakia', 1), ('Sudan', 1), ('Suriname', 1), ('Syria', 1), ('Tanzania', 1), ('Uzbekistan', 1)]\n"
     ]
    }
   ],
   "source": [
    "cursor.execute(\"\"\"select country, count(*) from users group by country order by 2 desc\"\"\")\n",
    "print(cursor.fetchall())"
   ]
  },
  {
   "cell_type": "code",
   "execution_count": 89,
   "metadata": {},
   "outputs": [],
   "source": [
    "def GetTimesOfDay(time):\n",
    "    if time >= \"00:00:00\" and  time < \"05:00:00\":\n",
    "        return 'Ночь'\n",
    "    elif time >= \"05:00:00\" and  time < \"12:00:00\":\n",
    "        return 'Утро'\n",
    "    elif time >= \"12:00:00\" and  time < \"18:00:00\":\n",
    "        return 'День'\n",
    "    elif time >= \"18:00:00\" and  time <= \"23:59:59\":\n",
    "        return 'Вечер'   "
   ]
  },
  {
   "cell_type": "code",
   "execution_count": 88,
   "metadata": {},
   "outputs": [],
   "source": [
    "#В какое время суток чаще всего просматривают определенную категорию товаров?\n",
    "#с 00:00:00  по 05:00:00 - ночь\n",
    "#с 05:00:00  по 12:00:00 - утро\n",
    "#с 12:00:00  по 18:00:00 - день\n",
    "#с 18:00:00  по 00:00:00 - вечер\n",
    "def Report2(category_id):\n",
    "    cursor.execute(\"\"\"select time(datetime) from visits where category_id = ?  \"\"\",[(category_id)])\n",
    "    result = {}\n",
    "    for i in cursor.fetchall():\n",
    "        times = GetTimesOfDay(i[0])\n",
    "        if times not in result:\n",
    "            result[times] = 1\n",
    "        else:\n",
    "            result[times] += 1\n",
    "    return result"
   ]
  },
  {
   "cell_type": "code",
   "execution_count": 87,
   "metadata": {},
   "outputs": [],
   "source": [
    "\n",
    "\n",
    "output_file(\"bar_colormapped.html\")\n",
    "\n",
    "data = Report2(3)\n",
    "time_of_days = ['Ночь', 'Утро', 'День', 'Вечер']\n",
    "counts = [data['Ночь'],data['Утро'],data['День'],data['Вечер']]\n",
    "\n",
    "source = ColumnDataSource(data=dict(time_of_days=time_of_days, counts=counts))\n",
    "\n",
    "p = figure(x_range=fruits, plot_height=350, toolbar_location=None, title=\"В какое время суток чаще всего просматривают  категорию товаров\")\n",
    "p.vbar(x='time_of_days', top='counts', width=0.9, source=source, legend=\"time_of_days\",\n",
    "       line_color='white', fill_color=factor_cmap('time_of_days', palette=Spectral6, factors=fruits))\n",
    "\n",
    "p.xgrid.grid_line_color = None\n",
    "p.y_range.start = 0\n",
    "p.y_range.end = 1500\n",
    "p.legend.orientation = \"vertical\"\n",
    "p.legend.location = \"top_right\"\n",
    "\n",
    "show(p)"
   ]
  },
  {
   "cell_type": "code",
   "execution_count": 139,
   "metadata": {},
   "outputs": [],
   "source": [
    "#Сколько брошенных (не оплаченных) корзин имеется за определенный период?\n",
    "def Report3(date_start,date_finish):\n",
    "    cursor.execute(\"\"\"select c.id from cart_history c left join purchases p on c.id = p.cart_id  where p.cart_id is null and c.datetime between ? and ? \"\"\",[(date_start),(date_finish)])\n",
    "    return len(cursor.fetchall())"
   ]
  },
  {
   "cell_type": "code",
   "execution_count": 140,
   "metadata": {},
   "outputs": [
    {
     "data": {
      "text/plain": [
       "73"
      ]
     },
     "execution_count": 140,
     "metadata": {},
     "output_type": "execute_result"
    }
   ],
   "source": [
    "date_start = '2018-08-01 00:28:36'\n",
    "date_finish = '2018-08-14 09:53:56'\n",
    "Report3(date_start,date_finish)"
   ]
  },
  {
   "cell_type": "code",
   "execution_count": null,
   "metadata": {},
   "outputs": [],
   "source": []
  }
 ],
 "metadata": {
  "kernelspec": {
   "display_name": "Python 3",
   "language": "python",
   "name": "python3"
  },
  "language_info": {
   "codemirror_mode": {
    "name": "ipython",
    "version": 3
   },
   "file_extension": ".py",
   "mimetype": "text/x-python",
   "name": "python",
   "nbconvert_exporter": "python",
   "pygments_lexer": "ipython3",
   "version": "3.7.1"
  }
 },
 "nbformat": 4,
 "nbformat_minor": 2
}
