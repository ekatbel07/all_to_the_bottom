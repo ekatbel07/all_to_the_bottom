{
 "cells": [
  {
   "cell_type": "code",
   "execution_count": 1,
   "metadata": {},
   "outputs": [],
   "source": [
    "import sqlite3\n",
    "from itertools import islice\n",
    "from math import pi\n",
    "import pandas as pd\n",
    "from bokeh.io import output_file, show\n",
    "from bokeh.palettes import Category20c\n",
    "from bokeh.transform import cumsum\n",
    "from bokeh.models import  CustomJS, ColumnDataSource\n",
    "from bokeh.palettes import Spectral6\n",
    "from bokeh.plotting import figure\n",
    "from bokeh.transform import factor_cmap\n",
    "from bokeh.embed import components,json_item\n",
    "from bokeh.resources import CDN\n",
    "# pip install bokeh\n",
    "# pip install bottle\n",
    "from bottle import route, run, template\n",
    "from bokeh.models.widgets import Select\n",
    "\n",
    "from bokeh.layouts import widgetbox, layout\n",
    "import json \n",
    "from flask import Flask\n",
    "from jinja2 import Template\n"
   ]
  },
  {
   "cell_type": "code",
   "execution_count": 2,
   "metadata": {},
   "outputs": [],
   "source": [
    "conn = sqlite3.connect(\"logs.db\",check_same_thread=False)\n",
    "\n"
   ]
  },
  {
   "cell_type": "code",
   "execution_count": 3,
   "metadata": {},
   "outputs": [],
   "source": [
    "# Посетители из какой страны совершают больше всего действий на сайте?\n",
    "def Report1():\n",
    "    cursor = conn.cursor()\n",
    "    cursor.execute(\"\"\"select u.country, count(*) from users u, visits v where u.id = v.user_id group by country order by 2 desc\"\"\")\n",
    "    \n",
    "    result = {}\n",
    "    for i in cursor.fetchall():\n",
    "        result[i[0]] = i[1]\n",
    "    cursor.execute(\"\"\"select u.country, count(*) from users u, cart_history c where u.id = c.user_id group by u.country order by 2 desc\"\"\")\n",
    "    for i in cursor.fetchall():\n",
    "        result[i[0]] += i[1]\n",
    "    cursor.execute(\"\"\"select u.country, count(*) from users u, cart_history c, purchases p where u.id = c.user_id and p.cart_id = c.id group by u.country order by 2 desc\"\"\")\n",
    "    for i in cursor.fetchall():\n",
    "        result[i[0]] += i[1]\n",
    "    cursor.execute(\"\"\"select country, count(*) from users group by country order by 2 desc\"\"\")\n",
    "    for i in cursor.fetchall():\n",
    "        result[i[0]] /= i[1]\n",
    "    del result[None]\n",
    "    n_items = list(islice(result.items(), 12))\n",
    "    result = {}\n",
    "    for i in n_items:\n",
    "        result[i[0]] = i[1]\n",
    "    return result\n",
    "    "
   ]
  },
  {
   "cell_type": "code",
   "execution_count": 4,
   "metadata": {},
   "outputs": [],
   "source": [
    "def GetTimesOfDay(time):\n",
    "    if time >= \"00:00:00\" and  time < \"05:00:00\":\n",
    "        return 'Ночь'\n",
    "    elif time >= \"05:00:00\" and  time < \"12:00:00\":\n",
    "        return 'Утро'\n",
    "    elif time >= \"12:00:00\" and  time < \"18:00:00\":\n",
    "        return 'День'\n",
    "    elif time >= \"18:00:00\" and  time <= \"23:59:59\":\n",
    "        return 'Вечер'   "
   ]
  },
  {
   "cell_type": "code",
   "execution_count": null,
   "metadata": {},
   "outputs": [],
   "source": [
    "#В какое время суток чаще всего просматривают определенную категорию товаров?\n",
    "#с 00:00:00  по 05:00:00 - ночь\n",
    "#с 05:00:00  по 12:00:00 - утро\n",
    "#с 12:00:00  по 18:00:00 - день\n",
    "#с 18:00:00  по 00:00:00 - вечер\n",
    "def Report2(category_name):\n",
    "    cursor1 = conn.cursor()\n",
    "    cursor1.execute(\"\"\"select id from category_goods where name = ?  \"\"\",[(category_name)])\n",
    "    cursor1.execute(\"\"\"select time(datetime) from visits where category_id = ?  \"\"\",[(cursor1.fetchall()[0][0])])\n",
    "    result = {}\n",
    "    for i in cursor1.fetchall():\n",
    "        times = GetTimesOfDay(i[0])\n",
    "        if times not in result:\n",
    "            result[times] = 1\n",
    "        else:\n",
    "            result[times] += 1\n",
    "        \n",
    "    return result"
   ]
  },
  {
   "cell_type": "code",
   "execution_count": null,
   "metadata": {},
   "outputs": [],
   "source": [
    "#Сколько брошенных (не оплаченных) корзин имеется за определенный период?\n",
    "def Report3(date_start,date_finish):\n",
    "    cursor3=conn.cursor()\n",
    "    cursor3.execute(\"\"\"select id from cart_history where not exists (select * from purchases where cart_history.id = purchases.cart_id and datetime between ? and ? ) and datetime between ? and ? \"\"\",[(date_start),(date_finish),(date_start),(date_finish)])\n",
    "    return len(cursor3.fetchall())"
   ]
  },
  {
   "cell_type": "code",
   "execution_count": null,
   "metadata": {},
   "outputs": [
    {
     "data": {
      "text/plain": [
       "12"
      ]
     },
     "execution_count": 7,
     "metadata": {},
     "output_type": "execute_result"
    }
   ],
   "source": [
    "date_start = '2018-08-01 00:28:36'\n",
    "date_finish = '2018-08-02 09:53:56'\n",
    "Report3(date_start,date_finish)"
   ]
  },
  {
   "cell_type": "code",
   "execution_count": null,
   "metadata": {},
   "outputs": [],
   "source": [
    "def GetPlot1():\n",
    "    x = Report1()\n",
    "\n",
    "    data = pd.Series(x).reset_index(name='value').rename(columns={'index':'country'})\n",
    "    data['angle'] = data['value']/data['value'].sum() * 2*pi\n",
    "    data['color'] = Category20c[len(x)]\n",
    "\n",
    "    p = figure(plot_height=350, title=\"Посетители из какой страны совершают больше всего действий на сайте\", toolbar_location=None,\n",
    "               tools=\"hover\", tooltips=\"@country: @value\", x_range=(-0.5, 1.0))\n",
    "\n",
    "    p.wedge(x=0, y=1, radius=0.4,\n",
    "            start_angle=cumsum('angle', include_zero=True), end_angle=cumsum('angle'),\n",
    "            line_color=\"white\", fill_color='color', legend='country', source=data)\n",
    "\n",
    "    p.axis.axis_label=None\n",
    "    p.axis.visible=False\n",
    "    p.grid.grid_line_color = None\n",
    "    \n",
    "    return p"
   ]
  },
  {
   "cell_type": "code",
   "execution_count": null,
   "metadata": {},
   "outputs": [],
   "source": [
    "def GetPlot2(name):\n",
    "    \n",
    "    data = Report2(name)\n",
    "    time_of_days = ['Ночь', 'Утро', 'День', 'Вечер']\n",
    "    counts = [data['Ночь'],data['Утро'],data['День'],data['Вечер']]\n",
    "    source = ColumnDataSource(data=dict(time_of_days=time_of_days, counts=counts))\n",
    "\n",
    "    p = figure(x_range=time_of_days, plot_height=350, toolbar_location=None, title=\"В какое время суток чаще всего просматривают выбранную категорию товаров\")\n",
    "    p.vbar(x='time_of_days', top='counts', width=0.9, source=source, legend=\"time_of_days\",\n",
    "           line_color='white', fill_color=factor_cmap('time_of_days', palette=Spectral6, factors=time_of_days))\n",
    "\n",
    "    p.xgrid.grid_line_color = None\n",
    "    p.y_range.start = 0\n",
    "    p.y_range.end = 1500\n",
    "    p.legend.orientation = \"vertical\"\n",
    "    p.legend.location = \"top_right\"\n",
    "    \n",
    "    return p\n"
   ]
  },
  {
   "cell_type": "code",
   "execution_count": null,
   "metadata": {},
   "outputs": [
    {
     "name": "stdout",
     "output_type": "stream",
     "text": [
      " * Serving Flask app \"__main__\" (lazy loading)\n",
      " * Environment: production\n",
      "   WARNING: Do not use the development server in a production environment.\n",
      "   Use a production WSGI server instead.\n",
      " * Debug mode: off\n"
     ]
    },
    {
     "name": "stderr",
     "output_type": "stream",
     "text": [
      " * Running on http://127.0.0.1:5000/ (Press CTRL+C to quit)\n",
      "127.0.0.1 - - [18/Jan/2019 21:26:43] \"GET / HTTP/1.1\" 200 -\n",
      "WARNING:bokeh.embed.util:\n",
      "You are generating standalone HTML/JS output, but trying to use real Python\n",
      "callbacks (i.e. with on_change or on_event). This combination cannot work.\n",
      "\n",
      "Only JavaScript callbacks may be used with standalone output. For more\n",
      "information on JavaScript callbacks with Bokeh, see:\n",
      "\n",
      "    http://bokeh.pydata.org/en/latest/docs/user_guide/interaction/callbacks.html\n",
      "\n",
      "Alternatively, to use real Python callbacks, a Bokeh server application may\n",
      "be used. For more information on building and running Bokeh applications, see:\n",
      "\n",
      "    http://bokeh.pydata.org/en/latest/docs/user_guide/server.html\n",
      "\n",
      "127.0.0.1 - - [18/Jan/2019 21:26:45] \"GET /plot2 HTTP/1.1\" 200 -\n",
      "127.0.0.1 - - [18/Jan/2019 21:26:45] \"GET /plot HTTP/1.1\" 200 -\n"
     ]
    }
   ],
   "source": [
    "app = Flask(__name__)\n",
    "select = Select(title=\"Выберите категорию:\", value=\"fresh_fish\", options=[\"fresh_fish\", \"canned_food\", \"semi_manufactures\", \"caviar\",\"frozen_fish\"])\n",
    "p2 = GetPlot2(select.value)\n",
    "page = Template(\"\"\"\n",
    "<!DOCTYPE html>\n",
    "<html lang=\"en\">\n",
    "<head>\n",
    "  {{ resources }}\n",
    "</head>\n",
    "<style>\n",
    "    .container {\n",
    "    width:90%;\n",
    "    position: fixed;\n",
    "}\n",
    "\n",
    ".right-element {\n",
    "    display: inline-block;\n",
    "    margin-left: 55%;\n",
    "    position: relative;\n",
    "}\n",
    "\n",
    ".left-element {\n",
    "    min-width: 1000px;\n",
    "    position: relative;\n",
    "    margin-right: -100%;\n",
    "    margin-top: -360px;\n",
    "}\n",
    ".left-bottom-element {\n",
    "    min-width: 1000px;\n",
    "    height: 109px;\n",
    "    position: relative;\n",
    "    margin: 270px auto;\n",
    "}\n",
    "\n",
    "</style>\n",
    "<body>\n",
    "<div class=\"container\">\n",
    "    <div class=\"right-element\" id=\"myplot\"> </div>\n",
    "    <div class=\"left-element\" id=\"myplot2\" ></div>\n",
    "    <form>\n",
    "      <div class=\"left-bottom-element\">\n",
    "      <label>Количество брошенных корзин за период:</label>\n",
    "      <br><br>\n",
    "        <label for=\"bday\">Дата начала:</label>\n",
    "        <input type=\"date\" id=\"start_date\" name=\"startdate\">\n",
    "        <label for=\"bday\">Дата окончания:</label>\n",
    "        <input type=\"date\" id=\"finish_date\" name=\"finishdate\">\n",
    "      </div>\n",
    "    </form>\n",
    "</div>\n",
    "  <script>\n",
    "  fetch('/plot')\n",
    "    .then(function(response) { return response.json(); })\n",
    "    .then(function(item) { Bokeh.embed.embed_item(item,\"myplot\"); })\n",
    "  </script>\n",
    "  <script>\n",
    "  fetch('/plot2')\n",
    "    .then(function(response) { return response.json(); })\n",
    "    .then(function(item) { Bokeh.embed.embed_item(item, \"myplot2\"); })\n",
    "  </script>\n",
    "</body>\n",
    "\"\"\")\n",
    "\n",
    "def update(attrname, old, new):\n",
    "    print(select.value)\n",
    "\n",
    "select.on_change('value', lambda attr, old, new: update())\n",
    "inputs = widgetbox(select)\n",
    "\n",
    "\n",
    "@app.route('/')\n",
    "def root():\n",
    "    return page.render(resources=CDN.render())\n",
    "\n",
    "@app.route('/plot')\n",
    "def plot():\n",
    "    p = GetPlot1()\n",
    "    return json.dumps(json_item(p, \"myplot\"))\n",
    "\n",
    "@app.route('/plot2')\n",
    "def plot2():\n",
    "    l=layout(children=[\n",
    "    inputs, p2\n",
    "    ])\n",
    "    return json.dumps(json_item(l,\"myplot2\"))\n",
    "\n",
    "if __name__ == '__main__':\n",
    "    app.run()"
   ]
  },
  {
   "cell_type": "code",
   "execution_count": null,
   "metadata": {},
   "outputs": [],
   "source": []
  }
 ],
 "metadata": {
  "kernelspec": {
   "display_name": "Python 3",
   "language": "python",
   "name": "python3"
  },
  "language_info": {
   "codemirror_mode": {
    "name": "ipython",
    "version": 3
   },
   "file_extension": ".py",
   "mimetype": "text/x-python",
   "name": "python",
   "nbconvert_exporter": "python",
   "pygments_lexer": "ipython3",
   "version": "3.7.1"
  }
 },
 "nbformat": 4,
 "nbformat_minor": 2
}
